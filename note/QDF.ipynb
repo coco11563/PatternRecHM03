{
 "cells": [
  {
   "cell_type": "code",
   "execution_count": 1,
   "outputs": [],
   "source": [
    "from __future__ import print_function, division\n",
    "import math\n",
    "\n",
    "import numpy as np\n",
    "import pandas as pd\n",
    "import torch"
   ],
   "metadata": {
    "collapsed": false,
    "pycharm": {
     "name": "#%%\n",
     "is_executing": false
    }
   }
  },
  {
   "cell_type": "code",
   "source": [
    "\n",
    "raw_data = pd.read_csv(\"C:\\\\Users\\\\coco1\\\\PycharmProjects\\\\PRHM01\\\\02\\\\data\\\\abalone.data\", header=None, dtype=str)"
   ],
   "metadata": {
    "collapsed": false,
    "pycharm": {
     "name": "#%%\n",
     "is_executing": false
    }
   },
   "execution_count": null,
   "outputs": []
  },
  {
   "cell_type": "code",
   "execution_count": 6,
   "outputs": [],
   "source": [
    "amount = len(raw_data)\n",
    "train_amount = int(amount * 0.7)\n",
    "test_amount = amount - train_amount\n",
    "train_set = raw_data.sample(frac=1).reset_index(drop=True).values"
   ],
   "metadata": {
    "collapsed": false,
    "pycharm": {
     "name": "#%%\n",
     "is_executing": false
    }
   }
  },
  {
   "cell_type": "code",
   "execution_count": 14,
   "outputs": [],
   "source": [
    "# define the LDF (Linear Discriminant Analysis)\n",
    "# Under LDA we assume that the density for X, given every class k is following a Gaussian distribution. \n",
    "# LDA computes “discriminant scores” for each observation to classify what response variable class it is in \n",
    "# (i.e. default or not default). \n",
    "# These scores are obtained by finding linear combinations of the independent variables. \n",
    "# For a single predictor variable X = x\n",
    "\n",
    "train_tensor = torch.tensor([[float(elem) for elem in x ] for x in train_set[:, 1:]], dtype=torch.float)\n",
    "data_iter = train_tensor\n",
    "label_iter = train_set[:,0]\n",
    "        "
   ],
   "metadata": {
    "collapsed": false,
    "pycharm": {
     "name": "#%%\n",
     "is_executing": false
    }
   }
  },
  {
   "cell_type": "code",
   "execution_count": 15,
   "outputs": [],
   "source": [
    "train_data = torch.tensor(np.array(data_iter[0:train_amount]), dtype=torch.float)\n",
    "test_data= torch.tensor(np.array(data_iter[train_amount:]), dtype=torch.float)\n",
    "train_label = label_iter[0:train_amount]\n",
    "test_label = label_iter[train_amount:]"
   ],
   "metadata": {
    "collapsed": false,
    "pycharm": {
     "name": "#%%\n",
     "is_executing": false
    }
   }
  },
  {
   "cell_type": "code",
   "execution_count": 28,
   "outputs": [],
   "source": [
    "type1_train_data = []\n",
    "type2_train_data = []\n",
    "type3_train_data = []\n",
    "for i in range(train_label.shape[0]) :\n",
    "    if str(train_label[i]) == \"M\" : type1_train_data.append(train_data[i])\n",
    "    if str(train_label[i]) == \"F\" : type2_train_data.append(train_data[i])\n",
    "    if str(train_label[i]) == \"I\" : type3_train_data.append(train_data[i])\n",
    "    # print(str(train_label[i]))"
   ],
   "metadata": {
    "collapsed": false,
    "pycharm": {
     "name": "#%%\n",
     "is_executing": false
    }
   }
  },
  {
   "cell_type": "code",
   "execution_count": 37,
   "outputs": [],
   "source": [
    "# get the mu\n",
    "def get_qda_norm_attribute (train, all_size) : \n",
    "    init_vec = torch.zeros(train[0].size()[0], dtype=torch.float)\n",
    "    for vec in train :\n",
    "        init_vec += vec\n",
    "    return init_vec / len(train), len(train) / all_size\n",
    "def get_qda_cor_matrix (train, mu) :\n",
    "    print(len(train))\n",
    "    size = train[0].shape[0]\n",
    "    zeros = torch.zeros((size,size))\n",
    "    for vec in train : \n",
    "        # print((vec - mu).size())\n",
    "        zeros += (vec - mu).view(-1, 1).mm((vec - mu).view(1,-1))\n",
    "    return zeros / len(train)\n",
    "def get_qda_cor_inv (train, mu) :\n",
    "    return np.linalg.inv(get_qda_cor_matrix(train, mu))"
   ],
   "metadata": {
    "collapsed": false,
    "pycharm": {
     "name": "#%%\n",
     "is_executing": false
    }
   }
  },
  {
   "cell_type": "code",
   "execution_count": 38,
   "outputs": [
    {
     "name": "stdout",
     "text": [
      "1068",
      "\n",
      "930",
      "\n",
      "925",
      "\n",
      "1068",
      "\n",
      "930",
      "\n",
      "925",
      "\n"
     ],
     "output_type": "stream"
    }
   ],
   "source": [
    "#combining together\n",
    "all_size = train_data.size()[0]\n",
    "mu_1, pi_1 = get_qda_norm_attribute(type1_train_data, all_size)\n",
    "mu_2, pi_2 = get_qda_norm_attribute(type2_train_data, all_size)\n",
    "mu_3, pi_3 = get_qda_norm_attribute(type3_train_data, all_size)\n",
    "cor_ma_1 = get_qda_cor_matrix(type1_train_data, mu_1)\n",
    "cor_ma_2 = get_qda_cor_matrix(type2_train_data, mu_2)\n",
    "cor_ma_3 = get_qda_cor_matrix(type3_train_data, mu_3)\n",
    "\n",
    "cor_ma_inv_1 = get_qda_cor_inv(type1_train_data, mu_1)\n",
    "cor_ma_inv_2 = get_qda_cor_inv(type2_train_data, mu_2)\n",
    "cor_ma_inv_3 = get_qda_cor_inv(type3_train_data, mu_3)"
   ],
   "metadata": {
    "collapsed": false,
    "pycharm": {
     "name": "#%%\n",
     "is_executing": false
    }
   }
  },
  {
   "cell_type": "code",
   "execution_count": 44,
   "outputs": [
    {
     "name": "stdout",
     "text": [
      "50.75",
      "\n",
      "M",
      " ",
      "类准确度 ：",
      " ",
      "0.20652173913043478",
      "\n",
      "F",
      " ",
      "类准确度 ：",
      " ",
      "0.46153846153846156",
      "\n",
      "I",
      " ",
      "类准确度 ：",
      " ",
      "0.815347721822542",
      "\n"
     ],
     "output_type": "stream"
    }
   ],
   "source": [
    "def qdf(x, mu, pi, cor_inv) :\n",
    "    return -1 * (x.view(1,-1).mm(cor_inv)).mm(x.view(-1,1))  +\\\n",
    "           2 * (mu.view(1,-1).mm(cor_inv)).mm(x.view(-1,1)) - \\\n",
    "           (mu.view(1,-1).mm(cor_inv)).mm(mu.view(-1,1)) + \\\n",
    "           2 * math.log2(pi)\n",
    "right = 0\n",
    "result_dic = dict()\n",
    "result_count_dict = dict()\n",
    "for i in range(test_data.size()[0]) :\n",
    "    vec = test_data[i]\n",
    "    label = test_label[i]\n",
    "    result = 0\n",
    "    p1 = qdf(vec, mu_1, pi_1, cor_ma_1)\n",
    "    p2 = qdf(vec, mu_2, pi_2, cor_ma_2)\n",
    "    p3 = qdf(vec, mu_3, pi_3, cor_ma_3)\n",
    "    if p1 > p2 :\n",
    "        if p1 > p3 : result = \"M\"\n",
    "        else : result = \"I\"\n",
    "    else :\n",
    "        if p2 > p3 : result = \"F\"\n",
    "        else : result = \"I\"\n",
    "    if result == label :\n",
    "        if result_dic.__contains__(label) : \n",
    "            result_dic[label] += 1\n",
    "        else:\n",
    "            result_dic[label] = 1\n",
    "        right += 1\n",
    "print(right / (32 - 20))\n",
    "for label in test_label :\n",
    "    if result_count_dict.__contains__(label) : \n",
    "        result_count_dict[label] += 1\n",
    "    else:\n",
    "        result_count_dict[label] = 1\n",
    "for l in [\"M\",\"F\", \"I\"] :\n",
    "    print(l ,\"类准确度 ：\" , result_dic[l] / result_count_dict[l])\n",
    "# 50.75"
   ],
   "metadata": {
    "collapsed": false,
    "pycharm": {
     "name": "#%%\n",
     "is_executing": false
    }
   }
  },
  {
   "cell_type": "code",
   "execution_count": null,
   "outputs": [],
   "source": [
    "\n"
   ],
   "metadata": {
    "collapsed": false,
    "pycharm": {
     "name": "#%%\n"
    }
   }
  }
 ],
 "metadata": {
  "kernelspec": {
   "display_name": "Python 3",
   "language": "python",
   "name": "python3"
  },
  "language_info": {
   "codemirror_mode": {
    "name": "ipython",
    "version": 2
   },
   "file_extension": ".py",
   "mimetype": "text/x-python",
   "name": "python",
   "nbconvert_exporter": "python",
   "pygments_lexer": "ipython2",
   "version": "2.7.6"
  },
  "pycharm": {
   "stem_cell": {
    "cell_type": "raw",
    "source": [],
    "metadata": {
     "collapsed": false
    }
   }
  }
 },
 "nbformat": 4,
 "nbformat_minor": 0
}