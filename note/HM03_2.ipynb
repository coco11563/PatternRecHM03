{
 "cells": [
  {
   "cell_type": "code",
   "execution_count": 7,
   "outputs": [],
   "source": [
    "import pandas as pd"
   ],
   "metadata": {
    "collapsed": false,
    "pycharm": {
     "name": "#%% data prepare\n",
     "is_executing": false
    }
   }
  },
  {
   "cell_type": "code",
   "execution_count": 8,
   "outputs": [],
   "source": [
    "import os\n",
    "os.chdir('/data/sha0w/pyPath/jupyterProjects/tmp/PyCharmProject')"
   ],
   "metadata": {
    "collapsed": false,
    "pycharm": {
     "name": "#%% read data\n",
     "is_executing": false
    }
   }
  },
  {
   "cell_type": "code",
   "execution_count": 9,
   "outputs": [],
   "source": [
    "abalone_data = pd.read_csv(\"data/abalone.data\", header=None, dtype=str)\n",
    "lung_data = pd.read_csv(\"data/lung-cancer.data\",header=None, dtype=str)\n",
    "iris_data = pd.read_csv(\"data/iris.data\",header=None, dtype=str)"
   ],
   "metadata": {
    "collapsed": false,
    "pycharm": {
     "name": "#%%\n",
     "is_executing": false
    }
   }
  },
  {
   "cell_type": "code",
   "execution_count": 10,
   "outputs": [
    {
     "name": "stderr",
     "text": [
      "Using TensorFlow backend.\n"
     ],
     "output_type": "stream"
    }
   ],
   "source": [
    "from sklearn.model_selection import train_test_split\n",
    "\n",
    "from keras.utils.np_utils import to_categorical # convert to one-hot-encoding\n",
    "from keras.models import Sequential\n",
    "from keras.layers import Dense, Dropout, Flatten\n"
   ],
   "metadata": {
    "collapsed": false,
    "pycharm": {
     "name": "#%% prepare dnn env\n",
     "is_executing": false
    }
   }
  },
  {
   "cell_type": "code",
   "execution_count": 18,
   "outputs": [],
   "source": [
    "def test_layer(X_train, Y_train, label_num, flag = False) :\n",
    "    X_train, X_val, Y_train, Y_val = train_test_split(X_train, Y_train, test_size = 0.1, random_state=82)\n",
    "    X_train, X_test, Y_train, Y_test = train_test_split(X_train, Y_train, test_size = 0.5, random_state=82)\n",
    "    print(X_train.shape)\n",
    "    # print(Y_train[0])\n",
    "    ret_dict =dict()\n",
    "    for i in [3,4,5,6,7] : \n",
    "        model = Sequential()\n",
    "        model.add(Dense(128, activation='relu', input_shape=X_train.shape[1:]))\n",
    "        for j in range(i) : # add j label\n",
    "            model.add(Dense(128, activation='relu'))\n",
    "            model.add(Dropout(0.2))\n",
    "        if flag : # regression\n",
    "            model.add(Dense(1, activation='relu'))\n",
    "            # model.summary()\n",
    "            model.compile(loss='mean_squared_error', optimizer='rmsprop', metrics=['accuracy'])\n",
    "        else : # classification\n",
    "            model.add(Dense(label_num, activation='softmax'))\n",
    "            # model.summary()\n",
    "            model.compile(loss='categorical_crossentropy', optimizer='rmsprop', metrics=['accuracy'])\n",
    "        hist = model.fit(X_train, Y_train, batch_size=32, epochs=30,\n",
    "                         validation_data = (X_val,Y_val), callbacks=[],\n",
    "                         verbose=0, shuffle=True)\n",
    "        score = model.evaluate(X_test, Y_test, verbose=0)\n",
    "        accuracy = 100 * score[1]\n",
    "        print(accuracy)\n",
    "        ret_dict[i] = (accuracy, hist)\n",
    "    return ret_dict\n",
    "\n",
    "def test_node(X_train, Y_train, label_num, flag = False) :\n",
    "    X_train, X_val, Y_train, Y_val = train_test_split(X_train, Y_train, test_size = 0.1, random_state=82)\n",
    "    X_train, X_test, Y_train, Y_test = train_test_split(X_train, Y_train, test_size = 0.5, random_state=82)\n",
    "    print(X_train.shape)\n",
    "    # print(Y_train[0])\n",
    "    ret_dict =dict()\n",
    "    for i in range(10) : \n",
    "        node_num = 2 ** ( i + 1)\n",
    "        model = Sequential()\n",
    "        model.add(Dense(node_num, activation='relu', input_shape=X_train.shape[1:]))\n",
    "        model.add(Dropout(0.2))\n",
    "        model.add(Dense(node_num, activation='relu'))\n",
    "        model.add(Dropout(0.2))\n",
    "        model.add(Dense(node_num, activation='relu'))\n",
    "        model.add(Dropout(0.2))\n",
    "        if flag : # regression\n",
    "            model.add(Dense(1, activation='relu'))\n",
    "            # model.summary()\n",
    "            model.compile(loss='mean_squared_error', optimizer='rmsprop', metrics=['accuracy'])\n",
    "        else : # classification\n",
    "            model.add(Dense(label_num, activation='softmax'))\n",
    "            # model.summary()\n",
    "            model.compile(loss='categorical_crossentropy', optimizer='rmsprop', metrics=['accuracy'])\n",
    "        hist = model.fit(X_train, Y_train, batch_size=32, epochs=30,\n",
    "                         validation_data = (X_val,Y_val), callbacks=[],\n",
    "                         verbose=0, shuffle=True)\n",
    "        score = model.evaluate(X_test, Y_test, verbose=0)\n",
    "        accuracy = 100 * score[1]\n",
    "        print(accuracy)\n",
    "        ret_dict[node_num] = (accuracy, hist)\n",
    "    return ret_dict"
   ],
   "metadata": {
    "collapsed": false,
    "pycharm": {
     "name": "#%%\n",
     "is_executing": false
    }
   }
  },
  {
   "cell_type": "code",
   "execution_count": 19,
   "outputs": [
    {
     "name": "stdout",
     "text": [
      "(67, 4)\n",
      "32.35294222831726\n",
      "36.764705181121826\n",
      "29.411765933036804\n",
      "64.70588445663452\n",
      "64.70588445663452\n",
      "97.0588207244873\n",
      "67.64705777168274\n",
      "91.17646813392639\n",
      "86.76470518112183\n",
      "76.47058963775635\n(67, 4)\n",
      "98.52941036224365\n",
      "83.82353186607361\n",
      "75.0\n",
      "67.64705777168274\n",
      "80.88235259056091\n(1879, 10)\n",
      "0.0\n",
      "20.585106313228607\n",
      "24.148936569690704\n",
      "23.138298094272614\n",
      "26.38297975063324\n",
      "26.80850923061371\n",
      "25.0\n",
      "23.61702173948288\n",
      "25.212764739990234\n",
      "25.0\n(1879, 10)\n",
      "27.76595652103424\n",
      "20.319148898124695\n",
      "24.414893984794617\n",
      "24.787233769893646\n",
      "15.26595801115036\n(14, 56)\n",
      "14.28571492433548\n",
      "14.28571492433548\n",
      "21.42857164144516\n",
      "28.57142984867096\n",
      "28.57142984867096\n",
      "28.57142984867096\n",
      "35.71428656578064\n",
      "28.57142984867096\n",
      "28.57142984867096\n",
      "28.57142984867096\n(14, 56)\n",
      "35.71428656578064\n",
      "35.71428656578064\n",
      "42.85714328289032\n",
      "21.42857164144516\n",
      "28.57142984867096\n"
     ],
     "output_type": "stream"
    }
   ],
   "source": [
    "import numpy as np\n",
    "result_dict = dict()\n",
    "for d in [iris_data, abalone_data, lung_data] :\n",
    "    if d is iris_data :\n",
    "        X = d.iloc[:,0:-1].values.astype('float')\n",
    "        Y = d.iloc[:, -1].values.astype('int32')\n",
    "        Y = to_categorical(Y, num_classes = 3)\n",
    "        result_dict['iris_data'] = (test_node(X,Y,3),test_layer(X,Y,3))\n",
    "    if d is abalone_data : # 回归问题\n",
    "        X_ = d.iloc[:,0].values.astype('float')\n",
    "        X_ = to_categorical(X_, num_classes = 3)\n",
    "        X = d.iloc[:,1:-1,].values.astype('float')\n",
    "        # print(X[0])\n",
    "        X = np.concatenate((X_, X), axis=1)\n",
    "        Y = d.iloc[ :,-1].values.astype('int32')\n",
    "        result_dict['abalone_data'] = (test_node(X,Y,3, True),test_layer(X,Y,3, True))\n",
    "    if d is lung_data :\n",
    "        X = d.iloc[:,1:].values.astype('float')\n",
    "        Y = d.iloc[:,0].values.astype('int32')\n",
    "        Y = to_categorical(Y, num_classes = 3)\n",
    "        result_dict['lung_data'] = (test_node(X,Y,3),test_layer(X,Y,3))"
   ],
   "metadata": {
    "collapsed": false,
    "pycharm": {
     "name": "#%%\n",
     "is_executing": false
    }
   }
  },
  {
   "cell_type": "code",
   "execution_count": 13,
   "outputs": [
    {
     "name": "stdout",
     "text": [
      "1\n"
     ],
     "output_type": "stream"
    }
   ],
   "source": [
    "print(1)"
   ],
   "metadata": {
    "collapsed": false,
    "pycharm": {
     "name": "#%%\n",
     "is_executing": false
    }
   }
  },
  {
   "cell_type": "code",
   "execution_count": 119,
   "outputs": [
    {
     "name": "stdout",
     "text": [
      "{2: (32.35294222831726, <keras.callbacks.callbacks.History object at 0x7faa6770bef0>), 4: (36.764705181121826, <keras.callbacks.callbacks.History object at 0x7faa857e8160>), 8: (29.411765933036804, <keras.callbacks.callbacks.History object at 0x7faa7f9b26d8>), 16: (64.70588445663452, <keras.callbacks.callbacks.History object at 0x7faa8bb1ff60>), 32: (64.70588445663452, <keras.callbacks.callbacks.History object at 0x7faa65c31fd0>), 64: (97.0588207244873, <keras.callbacks.callbacks.History object at 0x7faa6454df28>), 128: (67.64705777168274, <keras.callbacks.callbacks.History object at 0x7faa62e98f60>), 256: (91.17646813392639, <keras.callbacks.callbacks.History object at 0x7faa617aaf98>), 512: (86.76470518112183, <keras.callbacks.callbacks.History object at 0x7faa60008e48>), 1024: (76.47058963775635, <keras.callbacks.callbacks.History object at 0x7faa5e891f28>)}\n2\n"
     ],
     "output_type": "stream"
    },
    {
     "traceback": [
      "\u001b[0;31m---------------------------------------------------------------------------\u001b[0m",
      "\u001b[0;31mTypeError\u001b[0m                                 Traceback (most recent call last)",
      "\u001b[0;32m<ipython-input-119-7f4b5436bb46>\u001b[0m in \u001b[0;36m<module>\u001b[0;34m\u001b[0m\n\u001b[1;32m     14\u001b[0m             \u001b[0mi\u001b[0m \u001b[0;34m=\u001b[0m \u001b[0;36m1\u001b[0m\u001b[0;34m\u001b[0m\u001b[0;34m\u001b[0m\u001b[0m\n\u001b[1;32m     15\u001b[0m             \u001b[0;32mfor\u001b[0m \u001b[0mwi\u001b[0m \u001b[0;32min\u001b[0m \u001b[0;34m[\u001b[0m\u001b[0;34m\"val_accuracy\"\u001b[0m\u001b[0;34m,\u001b[0m \u001b[0;34m\"accuracy\"\u001b[0m\u001b[0;34m,\u001b[0m \u001b[0;34m\"loss\"\u001b[0m\u001b[0;34m]\u001b[0m \u001b[0;34m:\u001b[0m\u001b[0;34m\u001b[0m\u001b[0;34m\u001b[0m\u001b[0m\n\u001b[0;32m---> 16\u001b[0;31m                 \u001b[0mfig\u001b[0m\u001b[0;34m,\u001b[0m \u001b[0max\u001b[0m \u001b[0;34m=\u001b[0m \u001b[0mplt\u001b[0m\u001b[0;34m.\u001b[0m\u001b[0mfigure\u001b[0m\u001b[0;34m(\u001b[0m\u001b[0mfigsize\u001b[0m\u001b[0;34m=\u001b[0m\u001b[0;34m(\u001b[0m\u001b[0;36m5\u001b[0m\u001b[0;34m,\u001b[0m\u001b[0;36m5\u001b[0m\u001b[0;34m)\u001b[0m\u001b[0;34m)\u001b[0m\u001b[0;34m\u001b[0m\u001b[0;34m\u001b[0m\u001b[0m\n\u001b[0m\u001b[1;32m     17\u001b[0m                 \u001b[0max\u001b[0m\u001b[0;34m.\u001b[0m\u001b[0mset_title\u001b[0m\u001b[0;34m(\u001b[0m\u001b[0mwi\u001b[0m\u001b[0;34m)\u001b[0m\u001b[0;34m\u001b[0m\u001b[0;34m\u001b[0m\u001b[0m\n\u001b[1;32m     18\u001b[0m                 \u001b[0max\u001b[0m\u001b[0;34m.\u001b[0m\u001b[0mset_xlabel\u001b[0m\u001b[0;34m(\u001b[0m\u001b[0;34m\"epoch\"\u001b[0m\u001b[0;34m)\u001b[0m\u001b[0;34m\u001b[0m\u001b[0;34m\u001b[0m\u001b[0m\n",
      "\u001b[0;31mTypeError\u001b[0m: cannot unpack non-iterable Figure object"
     ],
     "ename": "TypeError",
     "evalue": "cannot unpack non-iterable Figure object",
     "output_type": "error"
    },
    {
     "data": {
      "text/plain": "<Figure size 1440x360 with 0 Axes>"
     },
     "metadata": {},
     "output_type": "display_data"
    },
    {
     "data": {
      "text/plain": "<Figure size 360x360 with 0 Axes>"
     },
     "metadata": {},
     "output_type": "display_data"
    }
   ],
   "source": [
    "import matplotlib.pyplot as plt\n",
    "for d in [\"iris_data\", \"abalone_data\", \"lung_data\"] :\n",
    "    s = \"A\"\n",
    "    for data in result_dict[d]: \n",
    "        plt_x = []\n",
    "        plt_y = []\n",
    "        print(data)\n",
    "        # plt.plot(x,y,\"b--\",linewidth=1)   #在当前绘图对象绘图（X轴，Y轴，蓝色虚线，线宽度）\n",
    "        fig = plt.figure(figsize=(20,5)) #创建绘图对象\n",
    "        for num,(acc, his) in data.items() :\n",
    "            plt_x.append(acc / 100)\n",
    "            print(num)\n",
    "            plt_y.append(int(num))\n",
    "            i = 1\n",
    "            for wi in [\"val_accuracy\", \"accuracy\", \"loss\"] : \n",
    "                ax = fig.add_subplot(1, 3, i)\n",
    "                ax.set_title(wi)\n",
    "                ax.set_xlabel(\"epoch\")\n",
    "                ax.set_ylabel(wi)\n",
    "                ax.plot(his.epoch,his.history[wi],'-',label=num,scaley=False)\n",
    "                i += 1\n",
    "                ax.legend()\n",
    "        plt.show()\n",
    "        fig.savefig(dpi=300,fname = d + s + \"_1.jpg\")\n",
    "        fig_2 = plt.figure(figsize=(5,5))\n",
    "        plt.plot(plt_y, plt_x,'-',scaley=False) #创建绘图对象\n",
    "        plt.title(d + \"在测试集上的准确度\")\n",
    "        plt.xlabel(\"数量\")\n",
    "        plt.ylabel(\"测试准确度\")\n",
    "        plt.show()\n",
    "        fig_2.savefig(dpi=300,fname=d + s + \"_2.jpg\")\n",
    "        s = \"B\""
   ],
   "metadata": {
    "collapsed": false,
    "pycharm": {
     "name": "#%%\n",
     "is_executing": false
    }
   }
  },
  {
   "cell_type": "code",
   "execution_count": 30,
   "outputs": [
    {
     "traceback": [
      "\u001b[0;31m---------------------------------------------------------------------------\u001b[0m",
      "\u001b[0;31mTypeError\u001b[0m                                 Traceback (most recent call last)",
      "\u001b[0;32m<ipython-input-30-a347fb194a5d>\u001b[0m in \u001b[0;36m<module>\u001b[0;34m\u001b[0m\n\u001b[1;32m      6\u001b[0m \u001b[0mdata\u001b[0m \u001b[0;34m=\u001b[0m \u001b[0;34m[\u001b[0m\u001b[0;36m1\u001b[0m\u001b[0;34m,\u001b[0m\u001b[0;36m2\u001b[0m\u001b[0;34m,\u001b[0m\u001b[0;36m3\u001b[0m\u001b[0;34m,\u001b[0m\u001b[0;36m4\u001b[0m\u001b[0;34m]\u001b[0m\u001b[0;34m\u001b[0m\u001b[0;34m\u001b[0m\u001b[0m\n\u001b[1;32m      7\u001b[0m \u001b[0mx\u001b[0m \u001b[0;34m=\u001b[0m \u001b[0mrange\u001b[0m\u001b[0;34m(\u001b[0m\u001b[0mlen\u001b[0m\u001b[0;34m(\u001b[0m\u001b[0mdata\u001b[0m\u001b[0;34m)\u001b[0m\u001b[0;34m)\u001b[0m\u001b[0;34m\u001b[0m\u001b[0;34m\u001b[0m\u001b[0m\n\u001b[0;32m----> 8\u001b[0;31m \u001b[0mx_date\u001b[0m \u001b[0;34m=\u001b[0m \u001b[0;34m[\u001b[0m\u001b[0mdatestr2num\u001b[0m\u001b[0;34m(\u001b[0m\u001b[0mi\u001b[0m\u001b[0;34m)\u001b[0m \u001b[0;32mfor\u001b[0m \u001b[0mi\u001b[0m \u001b[0;32min\u001b[0m \u001b[0mdata\u001b[0m\u001b[0;34m.\u001b[0m\u001b[0mindex\u001b[0m\u001b[0;34m]\u001b[0m\u001b[0;34m\u001b[0m\u001b[0;34m\u001b[0m\u001b[0m\n\u001b[0m\u001b[1;32m      9\u001b[0m \u001b[0mplt\u001b[0m\u001b[0;34m.\u001b[0m\u001b[0mstyle\u001b[0m\u001b[0;34m.\u001b[0m\u001b[0muse\u001b[0m\u001b[0;34m(\u001b[0m\u001b[0;34m'ggplot'\u001b[0m\u001b[0;34m)\u001b[0m\u001b[0;34m\u001b[0m\u001b[0;34m\u001b[0m\u001b[0m\n\u001b[1;32m     10\u001b[0m \u001b[0mplt\u001b[0m\u001b[0;34m.\u001b[0m\u001b[0mfigure\u001b[0m\u001b[0;34m(\u001b[0m\u001b[0mfigsize\u001b[0m\u001b[0;34m=\u001b[0m\u001b[0;34m(\u001b[0m\u001b[0;36m10\u001b[0m\u001b[0;34m,\u001b[0m\u001b[0;36m5\u001b[0m\u001b[0;34m)\u001b[0m\u001b[0;34m)\u001b[0m\u001b[0;34m\u001b[0m\u001b[0;34m\u001b[0m\u001b[0m\n",
      "\u001b[0;31mTypeError\u001b[0m: 'builtin_function_or_method' object is not iterable"
     ],
     "ename": "TypeError",
     "evalue": "'builtin_function_or_method' object is not iterable",
     "output_type": "error"
    }
   ],
   "source": [
    "import sys\n",
    "sys.path.append('C:\\Python34\\Lib\\site-packages')\n",
    "import matplotlib.pyplot as plt\n",
    "from matplotlib.pylab import datestr2num\n",
    "\n",
    "data = [1,2,3,4]\n",
    "x = range(len(data))\n",
    "x_date = [datestr2num(i) for i in data.index]\n",
    "plt.style.use('ggplot')\n",
    "plt.figure(figsize=(10,5))\n",
    "plt.title(\"上证50指数历史最高价、收盘价走势折线图\")\n",
    "plt.xlabel(\"时间\")\n",
    "plt.xticks(rotation=45)\n",
    "plt.ylabel(\"指数\")\n",
    "plt.plot_date(x_date,data['close'],'-',label=\"收盘价\")\n",
    "plt.plot_date(x_date,data['high'],'-',label=\"最高价\")\n",
    "plt.legend()\n",
    "plt.grid(True)\n",
    "    "
   ],
   "metadata": {
    "collapsed": false,
    "pycharm": {
     "name": "#%%\n",
     "is_executing": false
    }
   }
  },
  {
   "cell_type": "code",
   "execution_count": null,
   "outputs": [],
   "source": [],
   "metadata": {
    "collapsed": false,
    "pycharm": {
     "name": "#%%\n"
    }
   }
  },
  {
   "cell_type": "code",
   "execution_count": null,
   "outputs": [],
   "source": [
    "def plot_result(node_test) :\n",
    "    accs = []\n",
    "    for (num, (acc,his)) in node_test.items() : \n",
    "        accs.append(acc)\n",
    "        pltdata = his[\"val_loss\"]\n",
    "        plt.plot_date(x_date,his[\"val_acc\"],'-',label=\"val\")\n",
    "        plt.plot_date(x_date,his[\"loss\"],'-',label=\"loss\")\n",
    "        plt.plot_date(x_date,his[\"acc\"],'-',label=\"acc\")\n",
    "        plt.xlabel(\"时间\")\n",
    "        plt.xticks(rotation=45)\n",
    "        plt.ylabel(\"指数\")\n",
    "        "
   ],
   "metadata": {
    "collapsed": false,
    "pycharm": {
     "name": "#%%\n"
    }
   }
  }
 ],
 "metadata": {
  "language_info": {
   "codemirror_mode": {
    "name": "ipython",
    "version": 2
   },
   "file_extension": ".py",
   "mimetype": "text/x-python",
   "name": "python",
   "nbconvert_exporter": "python",
   "pygments_lexer": "ipython2",
   "version": "2.7.6"
  },
  "kernelspec": {
   "name": "python3",
   "language": "python",
   "display_name": "Python 3"
  },
  "pycharm": {
   "stem_cell": {
    "cell_type": "raw",
    "source": [],
    "metadata": {
     "collapsed": false
    }
   }
  }
 },
 "nbformat": 4,
 "nbformat_minor": 0
}