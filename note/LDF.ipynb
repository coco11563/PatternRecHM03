{
 "cells": [
  {
   "cell_type": "code",
   "execution_count": 1,
   "outputs": [],
   "source": [
    "from __future__ import print_function, division\n",
    "import math\n",
    "\n",
    "import numpy as np\n",
    "import pandas as pd\n",
    "import torch"
   ],
   "metadata": {
    "collapsed": false,
    "pycharm": {
     "name": "#%%\n",
     "is_executing": false
    }
   }
  },
  {
   "cell_type": "code",
   "source": [
    "path = \"C:\\\\Users\\\\coco1\\\\PycharmProjects\\\\PatternRecignitionHM01\\\\01\\\\data\\\\lung-cancer.data\"\n",
    "raw_data = pd.read_csv(path,header=None, dtype=float)"
   ],
   "metadata": {
    "collapsed": false,
    "pycharm": {
     "name": "#%%\n",
     "is_executing": false
    }
   },
   "execution_count": 158,
   "outputs": []
  },
  {
   "cell_type": "code",
   "source": [
    "amount = len(raw_data)\n",
    "train_amount = int(amount * 0.7)\n",
    "test_amount = amount - train_amount\n",
    "def PCA(data, k=2):\n",
    " # preprocess the data\n",
    " X = data\n",
    " X_mean = torch.mean(X,0)\n",
    " X = X - X_mean.expand_as(X)\n",
    " # svd\n",
    " U,S,V = torch.svd(torch.t(X))\n",
    " return torch.mm(X,U[:,:k])\n",
    "train_set = raw_data.sample(frac=1).reset_index(drop=True).values"
   ],
   "metadata": {
    "collapsed": false,
    "pycharm": {
     "name": "#%%\n",
     "is_executing": false
    }
   },
   "execution_count": 196,
   "outputs": []
  },
  {
   "cell_type": "code",
   "execution_count": 197,
   "outputs": [],
   "source": [
    "# define the LDF (Linear Discriminant Analysis)\n",
    "# Under LDA we assume that the density for X, given every class k is following a Gaussian distribution. \n",
    "# LDA computes “discriminant scores” for each observation to classify what response variable class it is in \n",
    "# (i.e. default or not default). \n",
    "# These scores are obtained by finding linear combinations of the independent variables. \n",
    "# For a single predictor variable X = x\n",
    "\n",
    "train_tensor = torch.tensor(train_set[:, 1:], dtype=torch.float)\n",
    "data_iter = PCA(train_tensor, 20)\n",
    "label_iter = train_set[:,0]\n",
    "        "
   ],
   "metadata": {
    "collapsed": false,
    "pycharm": {
     "name": "#%%\n",
     "is_executing": false
    }
   }
  },
  {
   "cell_type": "code",
   "execution_count": 219,
   "outputs": [],
   "source": [
    "train_data = torch.tensor(np.array(data_iter[0:20, :]), dtype=torch.float)\n",
    "test_data= torch.tensor(np.array(data_iter[20:, :]), dtype=torch.float)\n",
    "train_label = torch.tensor(np.array(label_iter[0:20]), dtype=torch.int)\n",
    "test_label = torch.tensor(np.array(label_iter[20:]), dtype=torch.int)"
   ],
   "metadata": {
    "collapsed": false,
    "pycharm": {
     "name": "#%%\n",
     "is_executing": false
    }
   }
  },
  {
   "cell_type": "code",
   "execution_count": 220,
   "outputs": [],
   "source": [
    "type1_train_data = []\n",
    "type2_train_data = []\n",
    "type3_train_data = []\n",
    "for i in range(train_label.size()[0]) :\n",
    "    if train_label[i] == 1 : type1_train_data.append(train_data[i])\n",
    "    if train_label[i] == 2 : type2_train_data.append(train_data[i])\n",
    "    if train_label[i] == 3 : type3_train_data.append(train_data[i])"
   ],
   "metadata": {
    "collapsed": false,
    "pycharm": {
     "name": "#%%\n",
     "is_executing": false
    }
   }
  },
  {
   "cell_type": "code",
   "execution_count": 226,
   "outputs": [],
   "source": [
    "# get the mu\n",
    "def get_lda_norm_attribute (train, all_size) : \n",
    "    init_vec = torch.zeros(train[0].size()[0], dtype=torch.float)\n",
    "    for vec in train :\n",
    "        init_vec += vec\n",
    "    return init_vec / len(train), len(train) / all_size\n",
    "def get_lda_cor_matrix (train, K, mu) :\n",
    "    print(train.size())\n",
    "    zeros = torch.zeros((train.size()[1],train.size()[1]))\n",
    "    print(zeros.size())\n",
    "    print(mu.size())\n",
    "    size = train.size()[0]\n",
    "    for vec in train : \n",
    "        print((vec - mu).size())\n",
    "        zeros += (vec - mu).view(20, 1).mm((vec - mu).view(1,20))\n",
    "    return zeros / (size - K)\n",
    "def get_lda_cor_inv (train, K, mu) :\n",
    "    return np.linalg.inv(get_lda_cor_matrix(train, K, mu))"
   ],
   "metadata": {
    "collapsed": false,
    "pycharm": {
     "name": "#%%\n",
     "is_executing": false
    }
   }
  },
  {
   "cell_type": "code",
   "execution_count": 227,
   "outputs": [
    {
     "name": "stdout",
     "text": [
      "torch.Size([20, 20])\ntorch.Size([20, 20])\ntorch.Size([20])\ntorch.Size([20])\ntorch.Size([20])\ntorch.Size([20])\ntorch.Size([20])\ntorch.Size([20])\ntorch.Size([20])\ntorch.Size([20])\ntorch.Size([20])\ntorch.Size([20])\ntorch.Size([20])\ntorch.Size([20])\ntorch.Size([20])\ntorch.Size([20])\ntorch.Size([20])\ntorch.Size([20])\ntorch.Size([20])\ntorch.Size([20])\ntorch.Size([20])\ntorch.Size([20])",
      "\ntorch.Size([20])\ntorch.Size([20, 20])\ntorch.Size([20, 20])\ntorch.Size([20])\ntorch.Size([20])\ntorch.Size([20])\ntorch.Size([20])\ntorch.Size([20])\ntorch.Size([20])\ntorch.Size([20])\ntorch.Size([20])\ntorch.Size([20])\ntorch.Size([20])\ntorch.Size([20])\ntorch.Size([20])\ntorch.Size([20])\ntorch.Size([20])\ntorch.Size([20])\ntorch.Size([20])\ntorch.Size([20])\ntorch.Size([20])\ntorch.Size([20])\ntorch.Size([20])\ntorch.Size([20])\n"
     ],
     "output_type": "stream"
    }
   ],
   "source": [
    "#combining together\n",
    "all_size = train_data.size()[0]\n",
    "mu_1, pi_1 = get_lda_norm_attribute(type1_train_data, all_size)\n",
    "mu_2, pi_2 = get_lda_norm_attribute(type2_train_data, all_size)\n",
    "mu_3, pi_3 = get_lda_norm_attribute(type3_train_data, all_size)\n",
    "cor_ma = get_lda_cor_matrix(train_data, 3, mu_1)\n",
    "cor_ma_inv = get_lda_cor_inv(train_data, 3, mu_1)"
   ],
   "metadata": {
    "collapsed": false,
    "pycharm": {
     "name": "#%%\n",
     "is_executing": false
    }
   }
  },
  {
   "cell_type": "code",
   "execution_count": 244,
   "outputs": [
    {
     "name": "stdout",
     "text": [
      "0.75\n"
     ],
     "output_type": "stream"
    }
   ],
   "source": [
    "def ldf(x, mu, pi, cor_inv) :\n",
    "    return -1 * (x.view(1,20).mm(cor_inv)).mm(x.view(20,1))  +  \\\n",
    "           2 * (mu.view(1,20).mm(cor_inv)).mm(x.view(20,1)) - \\\n",
    "           (mu.view(1,20).mm(cor_inv)).mm(mu.view(20,1)) + 2 * math.log2(pi)\n",
    "right = 0\n",
    "for i in range(test_data.size()[0]) :\n",
    "    vec = test_data[i]\n",
    "    label = test_label[i]\n",
    "    result = 0\n",
    "    p1 = ldf(vec, mu_1, pi_1, cor_ma)\n",
    "    p2 = ldf(vec, mu_2, pi_2, cor_ma)\n",
    "    p3 = ldf(vec, mu_3, pi_3, cor_ma)\n",
    "    if p1 > p2 :\n",
    "        if p1 > p3 : result = 1\n",
    "        else : result = 3\n",
    "    else :\n",
    "        if p2 > p3 : result = 2\n",
    "        else : result = 3\n",
    "    if result == label :\n",
    "        right += 1\n",
    "print(right / (32 - 20))\n",
    "# 0.75"
   ],
   "metadata": {
    "collapsed": false,
    "pycharm": {
     "name": "#%%\n",
     "is_executing": false
    }
   }
  }
 ],
 "metadata": {
  "kernelspec": {
   "display_name": "Python 3",
   "language": "python",
   "name": "python3"
  },
  "language_info": {
   "codemirror_mode": {
    "name": "ipython",
    "version": 2
   },
   "file_extension": ".py",
   "mimetype": "text/x-python",
   "name": "python",
   "nbconvert_exporter": "python",
   "pygments_lexer": "ipython2",
   "version": "2.7.6"
  },
  "pycharm": {
   "stem_cell": {
    "cell_type": "raw",
    "source": [],
    "metadata": {
     "collapsed": false
    }
   }
  }
 },
 "nbformat": 4,
 "nbformat_minor": 0
}